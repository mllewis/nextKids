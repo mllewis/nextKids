{
 "cells": [
  {
   "cell_type": "markdown",
   "metadata": {
    "deletable": true,
    "editable": true
   },
   "source": [
    "# Get NMDS embeddings \n",
    "\n",
    "## Using Jamieson et al. (2015) algorithm\n",
    "\n",
    "Algorithm taken from [https://github.com/kgjamieson/NEXT-psych/blob/master/next/apps/PoolBasedTripletMDS/algs/UncertaintySampling/utilsMDS.py](https://github.com/kgjamieson/NEXT-psych/blob/master/next/apps/PoolBasedTripletMDS/algs/UncertaintySampling/utilsMDS.py)."
   ]
  },
  {
   "cell_type": "code",
   "execution_count": 11,
   "metadata": {
    "collapsed": true
   },
   "outputs": [],
   "source": [
    "import numpy as np # For arrays\n",
    "import pandas # Gives us DataFrames\n",
    "import utilsMDS"
   ]
  },
  {
   "cell_type": "markdown",
   "metadata": {},
   "source": [
    "## MWE "
   ]
  },
  {
   "cell_type": "code",
   "execution_count": 17,
   "metadata": {
    "collapsed": false
   },
   "outputs": [
    {
     "data": {
      "text/plain": [
       "(array([[-0.80785104, -0.5771809 ],\n",
       "        [-0.13701885, -1.34098963],\n",
       "        [-0.65184565, -0.04831186],\n",
       "        [ 1.42943694, -0.56299554],\n",
       "        [ 0.67541548, -0.78671423],\n",
       "        [ 0.45714023, -1.49457604]]), 0)"
      ]
     },
     "execution_count": 17,
     "metadata": {},
     "output_type": "execute_result"
    }
   ],
   "source": [
    "N = 6\n",
    "D = 2\n",
    "S = list([[4,5,2],[1,2,3],[2,3,1],[4,2,5]])\n",
    "computeEmbedding(N, D, S)"
   ]
  },
  {
   "cell_type": "markdown",
   "metadata": {},
   "source": [
    "## Our data"
   ]
  },
  {
   "cell_type": "code",
   "execution_count": 56,
   "metadata": {
    "collapsed": false
   },
   "outputs": [],
   "source": [
    "df = pandas.read_csv('triplet_data.csv')\n",
    "N = 16\n",
    "D = 2"
   ]
  },
  {
   "cell_type": "markdown",
   "metadata": {},
   "source": [
    "### get young embeddings"
   ]
  },
  {
   "cell_type": "code",
   "execution_count": 59,
   "metadata": {
    "collapsed": false
   },
   "outputs": [
    {
     "data": {
      "text/plain": [
       "(array([[ -8.20094687e-01,   2.04894102e-01],\n",
       "        [  8.33089439e-01,   3.44506141e-01],\n",
       "        [ -2.13580207e-01,  -5.68713854e-01],\n",
       "        [ -2.93804232e-01,   3.19800199e-02],\n",
       "        [  5.36734443e-01,   8.07845950e-02],\n",
       "        [ -1.68470165e-01,  -2.12052625e-01],\n",
       "        [ -3.15757219e-01,  -7.94485839e-01],\n",
       "        [ -3.51631564e-01,  -2.23670474e-01],\n",
       "        [ -1.04956808e+00,   2.65566325e-01],\n",
       "        [  2.41093285e-01,   2.13998498e-01],\n",
       "        [ -1.33590738e-01,  -1.27710569e-01],\n",
       "        [  1.07515157e-01,  -9.39815751e-01],\n",
       "        [ -4.64786921e-01,   3.99462852e-01],\n",
       "        [ -1.11527895e+00,   2.47273490e-01],\n",
       "        [  7.84904507e-01,  -4.97877515e-01],\n",
       "        [  2.66658555e-04,   1.09600056e+00],\n",
       "        [ -5.70273100e-01,   1.84599646e-01]]), 0.325)"
      ]
     },
     "execution_count": 59,
     "metadata": {},
     "output_type": "execute_result"
    }
   ],
   "source": [
    "dyoung = df[df.age_group == \"young\"]\n",
    "\n",
    "S =[]\n",
    "for index, row in dyoung.iterrows():\n",
    "     S.append([row[\"i\"], row[\"j\"], row[\"k\"]])\n",
    "\n",
    "young_embed = computeEmbedding(N + 1, D, S)\n",
    "young_embed"
   ]
  },
  {
   "cell_type": "markdown",
   "metadata": {
    "deletable": true,
    "editable": true
   },
   "source": [
    "###  Get mid embeddings"
   ]
  },
  {
   "cell_type": "code",
   "execution_count": 51,
   "metadata": {
    "collapsed": true
   },
   "outputs": [],
   "source": [
    "dmid = df[df.age_group == \"mid\"]"
   ]
  }
 ],
 "metadata": {
  "anaconda-cloud": {},
  "kernelspec": {
   "display_name": "Python 2",
   "language": "python",
   "name": "python2"
  },
  "language_info": {
   "codemirror_mode": {
    "name": "ipython",
    "version": 2
   },
   "file_extension": ".py",
   "mimetype": "text/x-python",
   "name": "python",
   "nbconvert_exporter": "python",
   "pygments_lexer": "ipython2",
   "version": "2.7.13"
  }
 },
 "nbformat": 4,
 "nbformat_minor": 0
}
