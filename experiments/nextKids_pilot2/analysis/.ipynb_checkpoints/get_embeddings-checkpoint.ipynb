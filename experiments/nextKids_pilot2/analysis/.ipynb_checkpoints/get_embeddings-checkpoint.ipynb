{
 "cells": [
  {
   "cell_type": "markdown",
   "metadata": {
    "deletable": true,
    "editable": true
   },
   "source": [
    "# Get NMDS embeddings \n",
    "\n",
    "## Using Jamieson et al. (2015) algorithm\n",
    "\n",
    "Algorithm taken from [https://github.com/kgjamieson/NEXT-psych/blob/master/next/apps/PoolBasedTripletMDS/algs/UncertaintySampling/utilsMDS.py](https://github.com/kgjamieson/NEXT-psych/blob/master/next/apps/PoolBasedTripletMDS/algs/UncertaintySampling/utilsMDS.py)."
   ]
  },
  {
   "cell_type": "code",
   "execution_count": 1,
   "metadata": {
    "collapsed": false,
    "deletable": true,
    "editable": true
   },
   "outputs": [],
   "source": [
    "import numpy as np\n",
    "import pandas\n",
    "import utilsMDS as mds"
   ]
  },
  {
   "cell_type": "markdown",
   "metadata": {
    "deletable": true,
    "editable": true
   },
   "source": [
    "## Our data"
   ]
  },
  {
   "cell_type": "code",
   "execution_count": 48,
   "metadata": {
    "collapsed": false,
    "deletable": true,
    "editable": true
   },
   "outputs": [],
   "source": [
    "df = pandas.read_csv('triplet_data.csv')\n",
    "N = 16 # number of items\n",
    "D = 2 # number of dimensions\n",
    "all_embeddings = []"
   ]
  },
  {
   "cell_type": "markdown",
   "metadata": {
    "deletable": true,
    "editable": true
   },
   "source": [
    "### Get  embeddings for each age group"
   ]
  },
  {
   "cell_type": "code",
   "execution_count": 52,
   "metadata": {
    "collapsed": false
   },
   "outputs": [
    {
     "data": {
      "text/html": [
       "<div>\n",
       "<table border=\"1\" class=\"dataframe\">\n",
       "  <thead>\n",
       "    <tr style=\"text-align: right;\">\n",
       "      <th></th>\n",
       "      <th>X</th>\n",
       "      <th>Y</th>\n",
       "      <th>age_group</th>\n",
       "    </tr>\n",
       "  </thead>\n",
       "  <tbody>\n",
       "    <tr>\n",
       "      <th>0</th>\n",
       "      <td>0.542437</td>\n",
       "      <td>-0.720488</td>\n",
       "      <td>young</td>\n",
       "    </tr>\n",
       "    <tr>\n",
       "      <th>1</th>\n",
       "      <td>-0.548003</td>\n",
       "      <td>0.935951</td>\n",
       "      <td>young</td>\n",
       "    </tr>\n",
       "    <tr>\n",
       "      <th>2</th>\n",
       "      <td>-0.611970</td>\n",
       "      <td>0.172984</td>\n",
       "      <td>young</td>\n",
       "    </tr>\n",
       "    <tr>\n",
       "      <th>3</th>\n",
       "      <td>-0.404959</td>\n",
       "      <td>0.326129</td>\n",
       "      <td>young</td>\n",
       "    </tr>\n",
       "    <tr>\n",
       "      <th>4</th>\n",
       "      <td>1.213861</td>\n",
       "      <td>0.784962</td>\n",
       "      <td>young</td>\n",
       "    </tr>\n",
       "    <tr>\n",
       "      <th>5</th>\n",
       "      <td>-1.300674</td>\n",
       "      <td>-0.070182</td>\n",
       "      <td>young</td>\n",
       "    </tr>\n",
       "    <tr>\n",
       "      <th>6</th>\n",
       "      <td>0.310813</td>\n",
       "      <td>0.707045</td>\n",
       "      <td>young</td>\n",
       "    </tr>\n",
       "    <tr>\n",
       "      <th>7</th>\n",
       "      <td>-0.865086</td>\n",
       "      <td>1.406307</td>\n",
       "      <td>young</td>\n",
       "    </tr>\n",
       "    <tr>\n",
       "      <th>8</th>\n",
       "      <td>0.615323</td>\n",
       "      <td>0.595301</td>\n",
       "      <td>young</td>\n",
       "    </tr>\n",
       "    <tr>\n",
       "      <th>9</th>\n",
       "      <td>-0.412291</td>\n",
       "      <td>0.327069</td>\n",
       "      <td>young</td>\n",
       "    </tr>\n",
       "    <tr>\n",
       "      <th>10</th>\n",
       "      <td>0.256533</td>\n",
       "      <td>2.175170</td>\n",
       "      <td>young</td>\n",
       "    </tr>\n",
       "    <tr>\n",
       "      <th>11</th>\n",
       "      <td>-1.138046</td>\n",
       "      <td>1.223934</td>\n",
       "      <td>young</td>\n",
       "    </tr>\n",
       "    <tr>\n",
       "      <th>12</th>\n",
       "      <td>1.302022</td>\n",
       "      <td>0.453306</td>\n",
       "      <td>young</td>\n",
       "    </tr>\n",
       "    <tr>\n",
       "      <th>13</th>\n",
       "      <td>0.424212</td>\n",
       "      <td>-0.066335</td>\n",
       "      <td>young</td>\n",
       "    </tr>\n",
       "    <tr>\n",
       "      <th>14</th>\n",
       "      <td>0.266206</td>\n",
       "      <td>1.618412</td>\n",
       "      <td>young</td>\n",
       "    </tr>\n",
       "    <tr>\n",
       "      <th>15</th>\n",
       "      <td>-1.161115</td>\n",
       "      <td>1.029785</td>\n",
       "      <td>young</td>\n",
       "    </tr>\n",
       "  </tbody>\n",
       "</table>\n",
       "</div>"
      ],
      "text/plain": [
       "           X         Y age_group\n",
       "0   0.542437 -0.720488     young\n",
       "1  -0.548003  0.935951     young\n",
       "2  -0.611970  0.172984     young\n",
       "3  -0.404959  0.326129     young\n",
       "4   1.213861  0.784962     young\n",
       "5  -1.300674 -0.070182     young\n",
       "6   0.310813  0.707045     young\n",
       "7  -0.865086  1.406307     young\n",
       "8   0.615323  0.595301     young\n",
       "9  -0.412291  0.327069     young\n",
       "10  0.256533  2.175170     young\n",
       "11 -1.138046  1.223934     young\n",
       "12  1.302022  0.453306     young\n",
       "13  0.424212 -0.066335     young\n",
       "14  0.266206  1.618412     young\n",
       "15 -1.161115  1.029785     young"
      ]
     },
     "execution_count": 52,
     "metadata": {},
     "output_type": "execute_result"
    }
   ],
   "source": [
    "# young\n",
    "dyoung = df[df.age_group == \"young\"]\n",
    "S_young = []\n",
    "for index, row in dyoung.iterrows():\n",
    "     S_young.append([row[\"i\"], row[\"j\"], row[\"k\"]])\n",
    "young_embed = mds.computeEmbedding(N, D, S_young)\n",
    "young_embed = pandas.DataFrame(young_embed[0], columns = [\"X\", \"Y\"])\n",
    "young_embed['age_group'] = \"young\"\n",
    "all_embeddings = young_embed\n",
    "\n",
    "\n",
    "# mid\n",
    "dmid = df[df.age_group == \"mid\"]\n",
    "S_mid =[]\n",
    "for index, row in dmid.iterrows():\n",
    "     S_mid.append([row[\"i\"], row[\"j\"], row[\"k\"]])\n",
    "\n",
    "mid_embed = mds.computeEmbedding(N, D, S_mid)\n",
    "mid_embed = pandas.DataFrame(mid_embed[0], columns = [\"X\", \"Y\"])\n",
    "mid_embed['age_group'] = \"mid\"\n",
    "all_embeddings = all_embeddings.append(mid_embed)\n",
    "\n",
    "\n",
    "\n",
    "\n",
    "        \n",
    "# old\n",
    "dold = df[df.age_group == \"old\"]\n",
    "S_old =[]\n",
    "for index, row in dold.iterrows():\n",
    "     S_old.append([row[\"i\"], row[\"j\"], row[\"k\"]])\n",
    "\n",
    "old_embed = mds.computeEmbedding(N, D, S_old)\n",
    "old_embed['age_group'] = \"old\"\n"
   ]
  },
  {
   "cell_type": "code",
   "execution_count": 35,
   "metadata": {
    "collapsed": false,
    "deletable": true,
    "editable": true
   },
   "outputs": [
    {
     "ename": "IndexError",
     "evalue": "only integers, slices (`:`), ellipsis (`...`), numpy.newaxis (`None`) and integer or boolean arrays are valid indices",
     "output_type": "error",
     "traceback": [
      "\u001b[0;31m---------------------------------------------------------------------------\u001b[0m",
      "\u001b[0;31mIndexError\u001b[0m                                Traceback (most recent call last)",
      "\u001b[0;32m<ipython-input-35-ba4d1cfebb9e>\u001b[0m in \u001b[0;36m<module>\u001b[0;34m()\u001b[0m\n\u001b[1;32m      6\u001b[0m \u001b[0myoung_embed\u001b[0m \u001b[0;34m=\u001b[0m \u001b[0mmds\u001b[0m\u001b[0;34m.\u001b[0m\u001b[0mcomputeEmbedding\u001b[0m\u001b[0;34m(\u001b[0m\u001b[0mN\u001b[0m\u001b[0;34m,\u001b[0m \u001b[0mD\u001b[0m\u001b[0;34m,\u001b[0m \u001b[0mS_young\u001b[0m\u001b[0;34m)\u001b[0m\u001b[0;34m\u001b[0m\u001b[0m\n\u001b[1;32m      7\u001b[0m \u001b[0myoung_embed\u001b[0m \u001b[0;34m=\u001b[0m \u001b[0myoung_embed\u001b[0m\u001b[0;34m[\u001b[0m\u001b[0;36m0\u001b[0m\u001b[0;34m]\u001b[0m\u001b[0;34m\u001b[0m\u001b[0m\n\u001b[0;32m----> 8\u001b[0;31m \u001b[0myoung_embed\u001b[0m\u001b[0;34m[\u001b[0m\u001b[0;34m'age_group'\u001b[0m\u001b[0;34m]\u001b[0m \u001b[0;34m=\u001b[0m \u001b[0;34m\"cat\"\u001b[0m\u001b[0;34m\u001b[0m\u001b[0m\n\u001b[0m\u001b[1;32m      9\u001b[0m \u001b[0;34m\u001b[0m\u001b[0m\n\u001b[1;32m     10\u001b[0m \u001b[0;31m# mid\u001b[0m\u001b[0;34m\u001b[0m\u001b[0;34m\u001b[0m\u001b[0m\n",
      "\u001b[0;31mIndexError\u001b[0m: only integers, slices (`:`), ellipsis (`...`), numpy.newaxis (`None`) and integer or boolean arrays are valid indices"
     ]
    }
   ],
   "source": [
    "\n",
    "\n"
   ]
  },
  {
   "cell_type": "code",
   "execution_count": 19,
   "metadata": {
    "collapsed": false,
    "deletable": true,
    "editable": true
   },
   "outputs": [
    {
     "data": {
      "text/plain": [
       "array([[ 0.7504235 ,  0.75874439],\n",
       "       [-0.40479716, -0.14319105],\n",
       "       [-0.19837088, -0.77371997],\n",
       "       [-0.66632729,  0.34315314],\n",
       "       [-0.15375568, -1.17754686],\n",
       "       [-0.64232908, -0.7987053 ],\n",
       "       [ 0.41936127,  0.25111831],\n",
       "       [ 0.05677533,  0.28806139],\n",
       "       [ 0.65189092, -0.81546723],\n",
       "       [-0.3505249 ,  0.33359856],\n",
       "       [ 0.89682379,  0.3927784 ],\n",
       "       [-0.45852209, -0.11431805],\n",
       "       [ 1.09931511, -0.20862322],\n",
       "       [-0.67799086,  0.41949597],\n",
       "       [ 0.20170388, -1.32743969],\n",
       "       [-1.12360882,  0.25269203]])"
      ]
     },
     "execution_count": 19,
     "metadata": {},
     "output_type": "execute_result"
    }
   ],
   "source": [
    "alld = dyoung.append(dmid)\n",
    "alld = alld.append(dold)\n",
    "alld"
   ]
  },
  {
   "cell_type": "code",
   "execution_count": 20,
   "metadata": {
    "collapsed": true
   },
   "outputs": [],
   "source": [
    "np.savetxt(\"young_embed.csv\", young_embed[0], delimiter=\",\")\n",
    "np.savetxt(\"old_embed.csv\", old_embed[0], delimiter=\",\")"
   ]
  },
  {
   "cell_type": "markdown",
   "metadata": {
    "deletable": true,
    "editable": true
   },
   "source": [
    "###  Get mid embeddings"
   ]
  },
  {
   "cell_type": "code",
   "execution_count": 21,
   "metadata": {
    "collapsed": false,
    "deletable": true,
    "editable": true
   },
   "outputs": [
    {
     "data": {
      "text/plain": [
       "array([[ 0.98512248, -0.11737617],\n",
       "       [ 0.57814067, -0.81169665],\n",
       "       [ 0.51362502,  0.78784944],\n",
       "       [ 0.12738778,  0.55044003],\n",
       "       [-0.2219005 , -0.87659842],\n",
       "       [-1.5751845 ,  0.06506817],\n",
       "       [ 0.29814203, -0.54598142],\n",
       "       [-0.43805846, -0.15592412],\n",
       "       [-0.39501368, -1.25628414],\n",
       "       [-0.23014763,  0.63535878],\n",
       "       [-0.62026247, -0.44129333],\n",
       "       [-0.13131562, -0.46924154],\n",
       "       [ 1.02542499, -0.77523471],\n",
       "       [ 0.28599734, -0.57222574],\n",
       "       [-1.36836868,  0.65636885],\n",
       "       [-0.41417783,  0.95435737]])"
      ]
     },
     "execution_count": 21,
     "metadata": {},
     "output_type": "execute_result"
    }
   ],
   "source": []
  },
  {
   "cell_type": "markdown",
   "metadata": {
    "deletable": true,
    "editable": true
   },
   "source": [
    "Save for R"
   ]
  },
  {
   "cell_type": "code",
   "execution_count": 22,
   "metadata": {
    "collapsed": false,
    "deletable": true,
    "editable": true
   },
   "outputs": [],
   "source": [
    "np.savetxt(\"mid_embed.csv\", mid_embed[0], delimiter=\",\")"
   ]
  },
  {
   "cell_type": "markdown",
   "metadata": {},
   "source": [
    "### Get old embeddings"
   ]
  },
  {
   "cell_type": "code",
   "execution_count": 16,
   "metadata": {
    "collapsed": false
   },
   "outputs": [],
   "source": [
    "\n",
    "\n"
   ]
  },
  {
   "cell_type": "code",
   "execution_count": 26,
   "metadata": {
    "collapsed": false
   },
   "outputs": [
    {
     "data": {
      "text/plain": [
       "460"
      ]
     },
     "execution_count": 26,
     "metadata": {},
     "output_type": "execute_result"
    }
   ],
   "source": [
    "\n",
    "len(alld)"
   ]
  },
  {
   "cell_type": "markdown",
   "metadata": {
    "deletable": true,
    "editable": true
   },
   "source": [
    "## MWE "
   ]
  },
  {
   "cell_type": "code",
   "execution_count": 5,
   "metadata": {
    "collapsed": false,
    "deletable": true,
    "editable": true
   },
   "outputs": [
    {
     "data": {
      "text/plain": [
       "(array([[-0.01272466,  0.34508508],\n",
       "        [ 0.09357461, -0.05590893],\n",
       "        [-0.83373392, -0.31399309],\n",
       "        [ 0.58402415, -1.46445196],\n",
       "        [-1.15207987,  0.10784975],\n",
       "        [-0.56589639,  2.07126007]]), 0)"
      ]
     },
     "execution_count": 5,
     "metadata": {},
     "output_type": "execute_result"
    }
   ],
   "source": [
    "N = 6\n",
    "D = 2\n",
    "S = list([[4,5,2],[1,2,3],[2,3,1],[4,2,5]])\n",
    "mds.computeEmbedding(N, D, S)"
   ]
  }
 ],
 "metadata": {
  "anaconda-cloud": {},
  "kernelspec": {
   "display_name": "Python 2",
   "language": "python",
   "name": "python2"
  },
  "language_info": {
   "codemirror_mode": {
    "name": "ipython",
    "version": 2
   },
   "file_extension": ".py",
   "mimetype": "text/x-python",
   "name": "python",
   "nbconvert_exporter": "python",
   "pygments_lexer": "ipython2",
   "version": "2.7.13"
  }
 },
 "nbformat": 4,
 "nbformat_minor": 0
}
