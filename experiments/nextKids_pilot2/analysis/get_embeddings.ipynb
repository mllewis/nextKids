{
 "cells": [
  {
   "cell_type": "markdown",
   "metadata": {
    "deletable": true,
    "editable": true
   },
   "source": [
    "# Get NMDS embeddings \n",
    "\n",
    "## Using Jamieson et al. (2015) algorithm\n",
    "\n",
    "Algorithm taken from [https://github.com/kgjamieson/NEXT-psych/blob/master/next/apps/PoolBasedTripletMDS/algs/UncertaintySampling/utilsMDS.py](https://github.com/kgjamieson/NEXT-psych/blob/master/next/apps/PoolBasedTripletMDS/algs/UncertaintySampling/utilsMDS.py)."
   ]
  },
  {
   "cell_type": "code",
   "execution_count": 4,
   "metadata": {
    "collapsed": false,
    "deletable": true,
    "editable": true
   },
   "outputs": [],
   "source": [
    "import numpy as np\n",
    "import pandas\n",
    "import utilsMDS as mds"
   ]
  },
  {
   "cell_type": "markdown",
   "metadata": {
    "deletable": true,
    "editable": true
   },
   "source": [
    "## MWE "
   ]
  },
  {
   "cell_type": "code",
   "execution_count": 21,
   "metadata": {
    "collapsed": false,
    "deletable": true,
    "editable": true
   },
   "outputs": [
    {
     "data": {
      "text/plain": [
       "(array([[  9.86735119e-01,   5.74802724e-01],\n",
       "        [  6.34145764e-01,  -5.75616765e-01],\n",
       "        [  9.19165933e-01,  -1.15261131e+00],\n",
       "        [ -6.90451434e-01,  -1.52170016e-03],\n",
       "        [  1.11247721e+00,  -8.25817644e-01],\n",
       "        [ -3.82352591e-01,   3.28829987e+00]]), 0)"
      ]
     },
     "execution_count": 21,
     "metadata": {},
     "output_type": "execute_result"
    }
   ],
   "source": [
    "N = 6\n",
    "D = 2\n",
    "S = list([[4,5,2],[1,2,3],[2,3,1],[4,2,5]])\n",
    "mds.computeEmbedding(N, D, S)\n"
   ]
  },
  {
   "cell_type": "markdown",
   "metadata": {
    "deletable": true,
    "editable": true
   },
   "source": [
    "## Our data"
   ]
  },
  {
   "cell_type": "code",
   "execution_count": 11,
   "metadata": {
    "collapsed": false,
    "deletable": true,
    "editable": true
   },
   "outputs": [],
   "source": [
    "df = pandas.read_csv('triplet_data.csv')\n",
    "N = 16 # number of items\n",
    "D = 2 # number of dimensions"
   ]
  },
  {
   "cell_type": "markdown",
   "metadata": {
    "deletable": true,
    "editable": true
   },
   "source": [
    "### Get young embeddings"
   ]
  },
  {
   "cell_type": "code",
   "execution_count": 12,
   "metadata": {
    "collapsed": false,
    "deletable": true,
    "editable": true
   },
   "outputs": [
    {
     "data": {
      "text/plain": [
       "102"
      ]
     },
     "execution_count": 12,
     "metadata": {},
     "output_type": "execute_result"
    }
   ],
   "source": [
    "dyoung = df[df.age_group == \"young\"]\n",
    "\n",
    "S_young =[]\n",
    "for index, row in dyoung.iterrows():\n",
    "     S_young.append([row[\"i\"], row[\"j\"], row[\"k\"]])\n",
    "    \n",
    "len(S_young)"
   ]
  },
  {
   "cell_type": "code",
   "execution_count": 14,
   "metadata": {
    "collapsed": false,
    "deletable": true,
    "editable": true
   },
   "outputs": [
    {
     "data": {
      "text/plain": [
       "array([[-0.52300326,  0.73709632],\n",
       "       [ 0.17426272,  0.4067454 ],\n",
       "       [ 0.35919134, -0.91664568],\n",
       "       [ 0.51423239, -0.14775566],\n",
       "       [-0.10093394, -0.40050238],\n",
       "       [ 0.37722692, -1.06441414],\n",
       "       [-0.10204416,  0.24901852],\n",
       "       [ 0.55428386,  0.50852098],\n",
       "       [-0.65716392, -0.64269408],\n",
       "       [ 0.71024363,  0.27493634],\n",
       "       [-0.28248701,  1.38525279],\n",
       "       [ 1.03444536,  0.88420196],\n",
       "       [-0.97273444, -0.39133958],\n",
       "       [-0.11287879, -0.41067067],\n",
       "       [-0.30824248,  1.07792189],\n",
       "       [ 1.19545703, -0.04207195]])"
      ]
     },
     "execution_count": 14,
     "metadata": {},
     "output_type": "execute_result"
    }
   ],
   "source": [
    "young_embed = mds.computeEmbedding(N, D, S_young)\n",
    "young_embed[0]"
   ]
  },
  {
   "cell_type": "markdown",
   "metadata": {
    "deletable": true,
    "editable": true
   },
   "source": [
    "###  Get mid embeddings"
   ]
  },
  {
   "cell_type": "code",
   "execution_count": 16,
   "metadata": {
    "collapsed": false,
    "deletable": true,
    "editable": true
   },
   "outputs": [
    {
     "data": {
      "text/plain": [
       "array([[ 0.61461874,  0.76059518],\n",
       "       [ 0.10420367, -0.85315334],\n",
       "       [ 1.36640121, -0.19144397],\n",
       "       [ 0.70535573,  0.05215367],\n",
       "       [-0.4114543 ,  0.33652141],\n",
       "       [ 0.54752126, -0.00292569],\n",
       "       [ 0.07971522,  0.8504258 ],\n",
       "       [-0.00732887,  0.90077926],\n",
       "       [-0.98237938,  0.06910933],\n",
       "       [ 1.06061432, -0.59306388],\n",
       "       [-0.65394097, -0.17785315],\n",
       "       [-0.22567121, -0.6981181 ],\n",
       "       [-0.37777049, -1.06932592],\n",
       "       [-0.36399429, -0.49892773],\n",
       "       [ 0.1662656 , -1.08115869],\n",
       "       [ 0.44412719, -1.15965725]])"
      ]
     },
     "execution_count": 16,
     "metadata": {},
     "output_type": "execute_result"
    }
   ],
   "source": [
    "dmid = df[df.age_group == \"mid\"]\n",
    "dmid = dmid[dmid.exp == 2]\n",
    "\n",
    "S_mid =[]\n",
    "for index, row in dmid.iterrows():\n",
    "     S_mid.append([row[\"i\"], row[\"j\"], row[\"k\"]])\n",
    "\n",
    "mid_embed = mds.computeEmbedding(N, D, S_mid)\n",
    "mid_embed[0]"
   ]
  },
  {
   "cell_type": "markdown",
   "metadata": {
    "deletable": true,
    "editable": true
   },
   "source": [
    "Save for R"
   ]
  },
  {
   "cell_type": "code",
   "execution_count": 17,
   "metadata": {
    "collapsed": false,
    "deletable": true,
    "editable": true
   },
   "outputs": [],
   "source": [
    "np.savetxt(\"mid_embed.csv\", mid_embed[0], delimiter=\",\")"
   ]
  }
 ],
 "metadata": {
  "anaconda-cloud": {},
  "kernelspec": {
   "display_name": "Python 2",
   "language": "python",
   "name": "python2"
  },
  "language_info": {
   "codemirror_mode": {
    "name": "ipython",
    "version": 2
   },
   "file_extension": ".py",
   "mimetype": "text/x-python",
   "name": "python",
   "nbconvert_exporter": "python",
   "pygments_lexer": "ipython2",
   "version": "2.7.13"
  }
 },
 "nbformat": 4,
 "nbformat_minor": 0
}
